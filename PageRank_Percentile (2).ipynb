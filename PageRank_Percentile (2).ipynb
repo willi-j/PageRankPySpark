{
 "cells": [
  {
   "cell_type": "code",
   "execution_count": 390,
   "metadata": {},
   "outputs": [],
   "source": [
    "import pandas as pd\n",
    "import numpy as np\n",
    "import matplotlib.pyplot as plt"
   ]
  },
  {
   "cell_type": "code",
   "execution_count": 391,
   "metadata": {},
   "outputs": [
    {
     "name": "stdout",
     "output_type": "stream",
     "text": [
      "(4135, 3)\n",
      "(4135, 1)\n"
     ]
    },
    {
     "name": "stderr",
     "output_type": "stream",
     "text": [
      "/Library/Frameworks/Python.framework/Versions/3.6/lib/python3.6/site-packages/ipykernel_launcher.py:2: FutureWarning: Method .as_matrix will be removed in a future version. Use .values instead.\n",
      "  \n"
     ]
    }
   ],
   "source": [
    "df = pd.read_csv('part-00000.txt', sep=\",\", header=None)\n",
    "data = df.as_matrix(columns = None)\n",
    "print(data.shape)\n",
    "pageRank = np.array(data[0:n,1:2])\n",
    "pageRank = np.vectorize(lambda x: float(x[1:]))(pageRank)\n",
    "print(pageRank.shape)"
   ]
  },
  {
   "cell_type": "code",
   "execution_count": 392,
   "metadata": {},
   "outputs": [
    {
     "name": "stdout",
     "output_type": "stream",
     "text": [
      "[[9.77297829e-03 6.52404500e-03 6.83746203e-03 ... 2.76774698e-05\n",
      "  2.35712791e-05 2.61594712e-05]]\n"
     ]
    }
   ],
   "source": [
    "pageRank= np.array([np.squeeze(pageRank)])\n",
    "print(pageRank)\n",
    "\n"
   ]
  },
  {
   "cell_type": "code",
   "execution_count": 393,
   "metadata": {},
   "outputs": [],
   "source": [
    "w = pageRank[0]\n",
    "\n",
    "\n"
   ]
  },
  {
   "cell_type": "code",
   "execution_count": 395,
   "metadata": {},
   "outputs": [
    {
     "name": "stdout",
     "output_type": "stream",
     "text": [
      "[2.78972684e-05 3.60030505e-05 4.76058647e-05 6.22697116e-05\n",
      " 8.16595587e-05 1.17936851e-04 1.60374148e-04 2.43725964e-04\n",
      " 4.08362438e-04 1.21100062e-03]\n"
     ]
    },
    {
     "data": {
      "text/plain": [
       "Text(0.5,1,'Damping = 0.9')"
      ]
     },
     "execution_count": 395,
     "metadata": {},
     "output_type": "execute_result"
    },
    {
     "data": {
      "image/png": "[encoded data removed]",
      "text/plain": [
       "<Figure size 432x288 with 1 Axes>"
      ]
     },
     "metadata": {
      "needs_background": "light"
     },
     "output_type": "display_data"
    }
   ],
   "source": [
    "#9 groups of 413 and 1 group of 418 elements, total 10 buckets\n",
    "sp = np.split(w[:4130], 10)\n",
    "sp[9] = np.r_[sp[9], w[4130:]]\n",
    "\n",
    "\n",
    "avg = np.array([np.mean(sp[i]) for i in range(9, -1, -1)])\n",
    "print(avg)\n",
    "plt.bar(range(10,101,10),avg, align='center', width = 7)\n",
    "plt.xlabel(\"Percentile\")\n",
    "plt.ylabel(\"Average Page Rank\")\n",
    "plt.title(\"Damping = 0.9\")"
   ]
  },
  {
   "cell_type": "code",
   "execution_count": null,
   "metadata": {},
   "outputs": [],
   "source": []
  },
  {
   "cell_type": "code",
   "execution_count": null,
   "metadata": {},
   "outputs": [],
   "source": []
  },
  {
   "cell_type": "code",
   "execution_count": null,
   "metadata": {},
   "outputs": [],
   "source": []
  },
  {
   "cell_type": "code",
   "execution_count": null,
   "metadata": {},
   "outputs": [],
   "source": []
  },
  {
   "cell_type": "code",
   "execution_count": null,
   "metadata": {},
   "outputs": [],
   "source": []
  }
 ],
 "metadata": {
  "kernelspec": {
   "display_name": "Python 3",
   "language": "python",
   "name": "python3"
  },
  "language_info": {
   "codemirror_mode": {
    "name": "ipython",
    "version": 3
   },
   "file_extension": ".py",
   "mimetype": "text/x-python",
   "name": "python",
   "nbconvert_exporter": "python",
   "pygments_lexer": "ipython3",
   "version": "3.6.5"
  }
 },
 "nbformat": 4,
 "nbformat_minor": 2
}
